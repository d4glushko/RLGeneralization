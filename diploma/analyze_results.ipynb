{
 "nbformat": 4,
 "nbformat_minor": 2,
 "metadata": {
  "language_info": {
   "name": "python",
   "codemirror_mode": {
    "name": "ipython",
    "version": 3
   },
   "version": "3.6.8"
  },
  "orig_nbformat": 2,
  "file_extension": ".py",
  "mimetype": "text/x-python",
  "name": "python",
  "npconvert_exporter": "python",
  "pygments_lexer": "ipython3",
  "version": 3
 },
 "cells": [
  {
   "cell_type": "code",
   "execution_count": 1,
   "metadata": {},
   "outputs": [],
   "source": [
    "import os\n",
    "import typing\n",
    "import numpy as np"
   ]
  },
  {
   "cell_type": "code",
   "execution_count": 2,
   "metadata": {},
   "outputs": [],
   "source": [
    "from diploma.noise_learning.utils import NoiseLearningAgents, ExchangeTypes\n",
    "from diploma.noise_learning.visualizer import Visualizer\n",
    "from diploma.noise_learning.metrics_manager import AgentMetrics, Metrics"
   ]
  },
  {
   "cell_type": "code",
   "execution_count": 3,
   "metadata": {},
   "outputs": [],
   "source": [
    "agents_number = 10\n",
    "env_name = 'CartPole-v1'\n",
    "agent = NoiseLearningAgents['A2C']\n",
    "noise_env_step = 0.1\n",
    "\n",
    "exchange_type = ExchangeTypes['NO']\n",
    "exchange_delta = 0.1\n",
    "exchange_items_reward_count = 30\n",
    "\n",
    "detailed_agents_plots = False\n",
    "metrics_number_of_elements = 100\n",
    "metrics_number_of_iterations = 50\n",
    "\n",
    "executions_count = None\n",
    "executions_from = None\n",
    "execution_date = None"
   ]
  },
  {
   "cell_type": "code",
   "execution_count": 4,
   "metadata": {},
   "outputs": [],
   "source": [
    "visualizer = Visualizer(\n",
    "    exchange_type=exchange_type, exchange_delta=exchange_delta, exchange_items_reward_count=exchange_items_reward_count, \n",
    "    agents_number=agents_number, env_name=env_name, noise_learning_agent=agent, metrics_number_of_elements=metrics_number_of_elements, \n",
    "    metrics_number_of_iterations=metrics_number_of_iterations, detailed_agents_plots=detailed_agents_plots, \n",
    "    noise_env_step=noise_env_step, executions_count=executions_count, executions_from=executions_from, execution_date=execution_date\n",
    ")"
   ]
  },
  {
   "cell_type": "code",
   "execution_count": 5,
   "metadata": {},
   "outputs": [
    {
     "name": "stdout",
     "output_type": "stream",
     "text": "t results\nLoaded diploma/temp_results/2020-01-07_15-43-23_A2C_NO_5/agent4.txt results\nLoaded diploma/temp_results/2020-01-07_15-43-23_A2C_NO_5/agent5.txt results\nLoaded diploma/temp_results/2020-01-07_15-43-23_A2C_NO_5/agent6.txt results\nLoaded diploma/temp_results/2020-01-07_15-43-23_A2C_NO_5/agent7.txt results\nLoaded diploma/temp_results/2020-01-07_15-43-23_A2C_NO_5/agent8.txt results\nLoaded diploma/temp_results/2020-01-07_15-43-23_A2C_NO_5/agent9.txt results\nLoaded diploma/temp_results/2020-01-07_15-43-23_A2C_NO_6/agent0.txt results\nLoaded diploma/temp_results/2020-01-07_15-43-23_A2C_NO_6/agent1.txt results\nLoaded diploma/temp_results/2020-01-07_15-43-23_A2C_NO_6/agent2.txt results\nLoaded diploma/temp_results/2020-01-07_15-43-23_A2C_NO_6/agent3.txt results\nLoaded diploma/temp_results/2020-01-07_15-43-23_A2C_NO_6/agent4.txt results\nLoaded diploma/temp_results/2020-01-07_15-43-23_A2C_NO_6/agent5.txt results\nLoaded diploma/temp_results/2020-01-07_15-43-23_A2C_NO_6/agent6.txt results\nLoaded diploma/temp_results/2020-01-07_15-43-23_A2C_NO_6/agent7.txt results\nLoaded diploma/temp_results/2020-01-07_15-43-23_A2C_NO_6/agent8.txt results\nLoaded diploma/temp_results/2020-01-07_15-43-23_A2C_NO_6/agent9.txt results\nLoaded diploma/temp_results/2020-01-07_15-43-23_A2C_NO_7/agent0.txt results\nLoaded diploma/temp_results/2020-01-07_15-43-23_A2C_NO_7/agent1.txt results\nLoaded diploma/temp_results/2020-01-07_15-43-23_A2C_NO_7/agent2.txt results\nLoaded diploma/temp_results/2020-01-07_15-43-23_A2C_NO_7/agent3.txt results\nLoaded diploma/temp_results/2020-01-07_15-43-23_A2C_NO_7/agent4.txt results\nLoaded diploma/temp_results/2020-01-07_15-43-23_A2C_NO_7/agent5.txt results\nLoaded diploma/temp_results/2020-01-07_15-43-23_A2C_NO_7/agent6.txt results\nLoaded diploma/temp_results/2020-01-07_15-43-23_A2C_NO_7/agent7.txt results\nLoaded diploma/temp_results/2020-01-07_15-43-23_A2C_NO_7/agent8.txt results\nLoaded diploma/temp_results/2020-01-07_15-43-23_A2C_NO_7/agent9.txt results\nLoaded diploma/temp_results/2020-01-07_15-43-23_A2C_NO_8/agent0.txt results\nLoaded diploma/temp_results/2020-01-07_15-43-23_A2C_NO_8/agent1.txt results\nLoaded diploma/temp_results/2020-01-07_15-43-23_A2C_NO_8/agent2.txt results\nLoaded diploma/temp_results/2020-01-07_15-43-23_A2C_NO_8/agent3.txt results\nLoaded diploma/temp_results/2020-01-07_15-43-23_A2C_NO_8/agent4.txt results\nLoaded diploma/temp_results/2020-01-07_15-43-23_A2C_NO_8/agent5.txt results\nLoaded diploma/temp_results/2020-01-07_15-43-23_A2C_NO_8/agent6.txt results\nLoaded diploma/temp_results/2020-01-07_15-43-23_A2C_NO_8/agent7.txt results\nLoaded diploma/temp_results/2020-01-07_15-43-23_A2C_NO_8/agent8.txt results\nLoaded diploma/temp_results/2020-01-07_15-43-23_A2C_NO_8/agent9.txt results\nLoaded diploma/temp_results/2020-01-07_15-43-23_A2C_NO_9/agent0.txt results\nLoaded diploma/temp_results/2020-01-07_15-43-23_A2C_NO_9/agent1.txt results\nLoaded diploma/temp_results/2020-01-07_15-43-23_A2C_NO_9/agent2.txt results\nLoaded diploma/temp_results/2020-01-07_15-43-23_A2C_NO_9/agent3.txt results\nLoaded diploma/temp_results/2020-01-07_15-43-23_A2C_NO_9/agent4.txt results\nLoaded diploma/temp_results/2020-01-07_15-43-23_A2C_NO_9/agent5.txt results\nLoaded diploma/temp_results/2020-01-07_15-43-23_A2C_NO_9/agent6.txt results\nLoaded diploma/temp_results/2020-01-07_15-43-23_A2C_NO_9/agent7.txt results\nLoaded diploma/temp_results/2020-01-07_15-43-23_A2C_NO_9/agent8.txt results\nLoaded diploma/temp_results/2020-01-07_15-43-23_A2C_NO_9/agent9.txt results\nMetrics set for result 0, agent 0. 1/100\nMetrics set for result 0, agent 1. 2/100\nMetrics set for result 0, agent 2. 3/100\nMetrics set for result 0, agent 3. 4/100\nMetrics set for result 0, agent 4. 5/100\nMetrics set for result 0, agent 5. 6/100\nMetrics set for result 0, agent 6. 7/100\nMetrics set for result 0, agent 7. 8/100\nMetrics set for result 0, agent 8. 9/100\nMetrics set for result 0, agent 9. 10/100\nMetrics set for result 1, agent 0. 11/100\nMetrics set for result 1, agent 1. 12/100\nMetrics set for result 1, agent 2. 13/100\nMetrics set for result 1, agent 3. 14/100\nMetrics set for result 1, agent 4. 15/100\nMetrics set for result 1, agent 5. 16/100\nMetrics set for result 1, agent 6. 17/100\nMetrics set for result 1, agent 7. 18/100\nMetrics set for result 1, agent 8. 19/100\nMetrics set for result 1, agent 9. 20/100\nMetrics set for result 2, agent 0. 21/100\nMetrics set for result 2, agent 1. 22/100\nMetrics set for result 2, agent 2. 23/100\nMetrics set for result 2, agent 3. 24/100\nMetrics set for result 2, agent 4. 25/100\nMetrics set for result 2, agent 5. 26/100\nMetrics set for result 2, agent 6. 27/100\nMetrics set for result 2, agent 7. 28/100\nMetrics set for result 2, agent 8. 29/100\nMetrics set for result 2, agent 9. 30/100\nMetrics set for result 3, agent 0. 31/100\nMetrics set for result 3, agent 1. 32/100\nMetrics set for result 3, agent 2. 33/100\nMetrics set for result 3, agent 3. 34/100\nMetrics set for result 3, agent 4. 35/100\nMetrics set for result 3, agent 5. 36/100\nMetrics set for result 3, agent 6. 37/100\nMetrics set for result 3, agent 7. 38/100\nMetrics set for result 3, agent 8. 39/100\nMetrics set for result 3, agent 9. 40/100\nMetrics set for result 4, agent 0. 41/100\nMetrics set for result 4, agent 1. 42/100\nMetrics set for result 4, agent 2. 43/100\nMetrics set for result 4, agent 3. 44/100\nMetrics set for result 4, agent 4. 45/100\nMetrics set for result 4, agent 5. 46/100\nMetrics set for result 4, agent 6. 47/100\nMetrics set for result 4, agent 7. 48/100\nMetrics set for result 4, agent 8. 49/100\nMetrics set for result 4, agent 9. 50/100\nMetrics set for result 5, agent 0. 51/100\nMetrics set for result 5, agent 1. 52/100\nMetrics set for result 5, agent 2. 53/100\nMetrics set for result 5, agent 3. 54/100\nMetrics set for result 5, agent 4. 55/100\nMetrics set for result 5, agent 5. 56/100\nMetrics set for result 5, agent 6. 57/100\nMetrics set for result 5, agent 7. 58/100\nMetrics set for result 5, agent 8. 59/100\nMetrics set for result 5, agent 9. 60/100\nMetrics set for result 6, agent 0. 61/100\nMetrics set for result 6, agent 1. 62/100\nMetrics set for result 6, agent 2. 63/100\nMetrics set for result 6, agent 3. 64/100\nMetrics set for result 6, agent 4. 65/100\nMetrics set for result 6, agent 5. 66/100\nMetrics set for result 6, agent 6. 67/100\nMetrics set for result 6, agent 7. 68/100\nMetrics set for result 6, agent 8. 69/100\nMetrics set for result 6, agent 9. 70/100\nMetrics set for result 7, agent 0. 71/100\nMetrics set for result 7, agent 1. 72/100\nMetrics set for result 7, agent 2. 73/100\nMetrics set for result 7, agent 3. 74/100\nMetrics set for result 7, agent 4. 75/100\nMetrics set for result 7, agent 5. 76/100\nMetrics set for result 7, agent 6. 77/100\nMetrics set for result 7, agent 7. 78/100\nMetrics set for result 7, agent 8. 79/100\nMetrics set for result 7, agent 9. 80/100\nMetrics set for result 8, agent 0. 81/100\nMetrics set for result 8, agent 1. 82/100\nMetrics set for result 8, agent 2. 83/100\nMetrics set for result 8, agent 3. 84/100\nMetrics set for result 8, agent 4. 85/100\nMetrics set for result 8, agent 5. 86/100\nMetrics set for result 8, agent 6. 87/100\nMetrics set for result 8, agent 7. 88/100\nMetrics set for result 8, agent 8. 89/100\nMetrics set for result 8, agent 9. 90/100\nMetrics set for result 9, agent 0. 91/100\nMetrics set for result 9, agent 1. 92/100\nMetrics set for result 9, agent 2. 93/100\nMetrics set for result 9, agent 3. 94/100\nMetrics set for result 9, agent 4. 95/100\nMetrics set for result 9, agent 5. 96/100\nMetrics set for result 9, agent 6. 97/100\nMetrics set for result 9, agent 7. 98/100\nMetrics set for result 9, agent 8. 99/100\nMetrics set for result 9, agent 9. 100/100\nLoaded diploma/temp_results/2020-01-07_15-43-23_A2C_NO_1/play_agent0.txt results\nLoaded diploma/temp_results/2020-01-07_15-43-23_A2C_NO_1/play_agent1.txt results\nLoaded diploma/temp_results/2020-01-07_15-43-23_A2C_NO_1/play_agent2.txt results\nLoaded diploma/temp_results/2020-01-07_15-43-23_A2C_NO_1/play_agent3.txt results\nLoaded diploma/temp_results/2020-01-07_15-43-23_A2C_NO_1/play_agent4.txt results\nLoaded diploma/temp_results/2020-01-07_15-43-23_A2C_NO_1/play_agent5.txt results\nLoaded diploma/temp_results/2020-01-07_15-43-23_A2C_NO_1/play_agent6.txt results\nLoaded diploma/temp_results/2020-01-07_15-43-23_A2C_NO_1/play_agent7.txt results\nLoaded diploma/temp_results/2020-01-07_15-43-23_A2C_NO_1/play_agent8.txt results\nLoaded diploma/temp_results/2020-01-07_15-43-23_A2C_NO_1/play_agent9.txt results\nLoaded diploma/temp_results/2020-01-07_15-43-23_A2C_NO_10/play_agent0.txt results\nLoaded diploma/temp_results/2020-01-07_15-43-23_A2C_NO_10/play_agent1.txt results\nLoaded diploma/temp_results/2020-01-07_15-43-23_A2C_NO_10/play_agent2.txt results\nLoaded diploma/temp_results/2020-01-07_15-43-23_A2C_NO_10/play_agent3.txt results\nLoaded diploma/temp_results/2020-01-07_15-43-23_A2C_NO_10/play_agent4.txt results\nLoaded diploma/temp_results/2020-01-07_15-43-23_A2C_NO_10/play_agent5.txt results\nLoaded diploma/temp_results/2020-01-07_15-43-23_A2C_NO_10/play_agent6.txt results\nLoaded diploma/temp_results/2020-01-07_15-43-23_A2C_NO_10/play_agent7.txt results\nLoaded diploma/temp_results/2020-01-07_15-43-23_A2C_NO_10/play_agent8.txt results\nLoaded diploma/temp_results/2020-01-07_15-43-23_A2C_NO_10/play_agent9.txt results\nLoaded diploma/temp_results/2020-01-07_15-43-23_A2C_NO_2/play_agent0.txt results\nLoaded diploma/temp_results/2020-01-07_15-43-23_A2C_NO_2/play_agent1.txt results\nLoaded diploma/temp_results/2020-01-07_15-43-23_A2C_NO_2/play_agent2.txt results\nLoaded diploma/temp_results/2020-01-07_15-43-23_A2C_NO_2/play_agent3.txt results\nLoaded diploma/temp_results/2020-01-07_15-43-23_A2C_NO_2/play_agent4.txt results\nLoaded diploma/temp_results/2020-01-07_15-43-23_A2C_NO_2/play_agent5.txt results\nLoaded diploma/temp_results/2020-01-07_15-43-23_A2C_NO_2/play_agent6.txt results\nLoaded diploma/temp_results/2020-01-07_15-43-23_A2C_NO_2/play_agent7.txt results\nLoaded diploma/temp_results/2020-01-07_15-43-23_A2C_NO_2/play_agent8.txt results\nLoaded diploma/temp_results/2020-01-07_15-43-23_A2C_NO_2/play_agent9.txt results\nLoaded diploma/temp_results/2020-01-07_15-43-23_A2C_NO_3/play_agent0.txt results\nLoaded diploma/temp_results/2020-01-07_15-43-23_A2C_NO_3/play_agent1.txt results\nLoaded diploma/temp_results/2020-01-07_15-43-23_A2C_NO_3/play_agent2.txt results\nLoaded diploma/temp_results/2020-01-07_15-43-23_A2C_NO_3/play_agent3.txt results\nLoaded diploma/temp_results/2020-01-07_15-43-23_A2C_NO_3/play_agent4.txt results\nLoaded diploma/temp_results/2020-01-07_15-43-23_A2C_NO_3/play_agent5.txt results\nLoaded diploma/temp_results/2020-01-07_15-43-23_A2C_NO_3/play_agent6.txt results\nLoaded diploma/temp_results/2020-01-07_15-43-23_A2C_NO_3/play_agent7.txt results\nLoaded diploma/temp_results/2020-01-07_15-43-23_A2C_NO_3/play_agent8.txt results\nLoaded diploma/temp_results/2020-01-07_15-43-23_A2C_NO_3/play_agent9.txt results\nLoaded diploma/temp_results/2020-01-07_15-43-23_A2C_NO_4/play_agent0.txt results\nLoaded diploma/temp_results/2020-01-07_15-43-23_A2C_NO_4/play_agent1.txt results\nLoaded diploma/temp_results/2020-01-07_15-43-23_A2C_NO_4/play_agent2.txt results\nLoaded diploma/temp_results/2020-01-07_15-43-23_A2C_NO_4/play_agent3.txt results\nLoaded diploma/temp_results/2020-01-07_15-43-23_A2C_NO_4/play_agent4.txt results\nLoaded diploma/temp_results/2020-01-07_15-43-23_A2C_NO_4/play_agent5.txt results\nLoaded diploma/temp_results/2020-01-07_15-43-23_A2C_NO_4/play_agent6.txt results\nLoaded diploma/temp_results/2020-01-07_15-43-23_A2C_NO_4/play_agent7.txt results\nLoaded diploma/temp_results/2020-01-07_15-43-23_A2C_NO_4/play_agent8.txt results\nLoaded diploma/temp_results/2020-01-07_15-43-23_A2C_NO_4/play_agent9.txt results\nLoaded diploma/temp_results/2020-01-07_15-43-23_A2C_NO_5/play_agent0.txt results\nLoaded diploma/temp_results/2020-01-07_15-43-23_A2C_NO_5/play_agent1.txt results\nLoaded diploma/temp_results/2020-01-07_15-43-23_A2C_NO_5/play_agent2.txt results\nLoaded diploma/temp_results/2020-01-07_15-43-23_A2C_NO_5/play_agent3.txt results\nLoaded diploma/temp_results/2020-01-07_15-43-23_A2C_NO_5/play_agent4.txt results\nLoaded diploma/temp_results/2020-01-07_15-43-23_A2C_NO_5/play_agent5.txt results\nLoaded diploma/temp_results/2020-01-07_15-43-23_A2C_NO_5/play_agent6.txt results\nLoaded diploma/temp_results/2020-01-07_15-43-23_A2C_NO_5/play_agent7.txt results\nLoaded diploma/temp_results/2020-01-07_15-43-23_A2C_NO_5/play_agent8.txt results\nLoaded diploma/temp_results/2020-01-07_15-43-23_A2C_NO_5/play_agent9.txt results\nLoaded diploma/temp_results/2020-01-07_15-43-23_A2C_NO_6/play_agent0.txt results\nLoaded diploma/temp_results/2020-01-07_15-43-23_A2C_NO_6/play_agent1.txt results\nLoaded diploma/temp_results/2020-01-07_15-43-23_A2C_NO_6/play_agent2.txt results\nLoaded diploma/temp_results/2020-01-07_15-43-23_A2C_NO_6/play_agent3.txt results\nLoaded diploma/temp_results/2020-01-07_15-43-23_A2C_NO_6/play_agent4.txt results\nLoaded diploma/temp_results/2020-01-07_15-43-23_A2C_NO_6/play_agent5.txt results\nLoaded diploma/temp_results/2020-01-07_15-43-23_A2C_NO_6/play_agent6.txt results\nLoaded diploma/temp_results/2020-01-07_15-43-23_A2C_NO_6/play_agent7.txt results\nLoaded diploma/temp_results/2020-01-07_15-43-23_A2C_NO_6/play_agent8.txt results\nLoaded diploma/temp_results/2020-01-07_15-43-23_A2C_NO_6/play_agent9.txt results\nLoaded diploma/temp_results/2020-01-07_15-43-23_A2C_NO_7/play_agent0.txt results\nLoaded diploma/temp_results/2020-01-07_15-43-23_A2C_NO_7/play_agent1.txt results\nLoaded diploma/temp_results/2020-01-07_15-43-23_A2C_NO_7/play_agent2.txt results\nLoaded diploma/temp_results/2020-01-07_15-43-23_A2C_NO_7/play_agent3.txt results\nLoaded diploma/temp_results/2020-01-07_15-43-23_A2C_NO_7/play_agent4.txt results\nLoaded diploma/temp_results/2020-01-07_15-43-23_A2C_NO_7/play_agent5.txt results\nLoaded diploma/temp_results/2020-01-07_15-43-23_A2C_NO_7/play_agent6.txt results\nLoaded diploma/temp_results/2020-01-07_15-43-23_A2C_NO_7/play_agent7.txt results\nLoaded diploma/temp_results/2020-01-07_15-43-23_A2C_NO_7/play_agent8.txt results\nLoaded diploma/temp_results/2020-01-07_15-43-23_A2C_NO_7/play_agent9.txt results\nLoaded diploma/temp_results/2020-01-07_15-43-23_A2C_NO_8/play_agent0.txt results\nLoaded diploma/temp_results/2020-01-07_15-43-23_A2C_NO_8/play_agent1.txt results\nLoaded diploma/temp_results/2020-01-07_15-43-23_A2C_NO_8/play_agent2.txt results\nLoaded diploma/temp_results/2020-01-07_15-43-23_A2C_NO_8/play_agent3.txt results\nLoaded diploma/temp_results/2020-01-07_15-43-23_A2C_NO_8/play_agent4.txt results\nLoaded diploma/temp_results/2020-01-07_15-43-23_A2C_NO_8/play_agent5.txt results\nLoaded diploma/temp_results/2020-01-07_15-43-23_A2C_NO_8/play_agent6.txt results\nLoaded diploma/temp_results/2020-01-07_15-43-23_A2C_NO_8/play_agent7.txt results\nLoaded diploma/temp_results/2020-01-07_15-43-23_A2C_NO_8/play_agent8.txt results\nLoaded diploma/temp_results/2020-01-07_15-43-23_A2C_NO_8/play_agent9.txt results\nLoaded diploma/temp_results/2020-01-07_15-43-23_A2C_NO_9/play_agent0.txt results\nLoaded diploma/temp_results/2020-01-07_15-43-23_A2C_NO_9/play_agent1.txt results\nLoaded diploma/temp_results/2020-01-07_15-43-23_A2C_NO_9/play_agent2.txt results\nLoaded diploma/temp_results/2020-01-07_15-43-23_A2C_NO_9/play_agent3.txt results\nLoaded diploma/temp_results/2020-01-07_15-43-23_A2C_NO_9/play_agent4.txt results\nLoaded diploma/temp_results/2020-01-07_15-43-23_A2C_NO_9/play_agent5.txt results\nLoaded diploma/temp_results/2020-01-07_15-43-23_A2C_NO_9/play_agent6.txt results\nLoaded diploma/temp_results/2020-01-07_15-43-23_A2C_NO_9/play_agent7.txt results\nLoaded diploma/temp_results/2020-01-07_15-43-23_A2C_NO_9/play_agent8.txt results\nLoaded diploma/temp_results/2020-01-07_15-43-23_A2C_NO_9/play_agent9.txt results\nMetrics set for result 0, agent 0. 1/100\nMetrics set for result 0, agent 1. 2/100\nMetrics set for result 0, agent 2. 3/100\nMetrics set for result 0, agent 3. 4/100\nMetrics set for result 0, agent 4. 5/100\nMetrics set for result 0, agent 5. 6/100\nMetrics set for result 0, agent 6. 7/100\nMetrics set for result 0, agent 7. 8/100\nMetrics set for result 0, agent 8. 9/100\nMetrics set for result 0, agent 9. 10/100\nMetrics set for result 1, agent 0. 11/100\nMetrics set for result 1, agent 1. 12/100\nMetrics set for result 1, agent 2. 13/100\nMetrics set for result 1, agent 3. 14/100\nMetrics set for result 1, agent 4. 15/100\nMetrics set for result 1, agent 5. 16/100\nMetrics set for result 1, agent 6. 17/100\nMetrics set for result 1, agent 7. 18/100\nMetrics set for result 1, agent 8. 19/100\nMetrics set for result 1, agent 9. 20/100\nMetrics set for result 2, agent 0. 21/100\nMetrics set for result 2, agent 1. 22/100\nMetrics set for result 2, agent 2. 23/100\nMetrics set for result 2, agent 3. 24/100\nMetrics set for result 2, agent 4. 25/100\nMetrics set for result 2, agent 5. 26/100\nMetrics set for result 2, agent 6. 27/100\nMetrics set for result 2, agent 7. 28/100\nMetrics set for result 2, agent 8. 29/100\nMetrics set for result 2, agent 9. 30/100\nMetrics set for result 3, agent 0. 31/100\nMetrics set for result 3, agent 1. 32/100\nMetrics set for result 3, agent 2. 33/100\nMetrics set for result 3, agent 3. 34/100\nMetrics set for result 3, agent 4. 35/100\nMetrics set for result 3, agent 5. 36/100\nMetrics set for result 3, agent 6. 37/100\nMetrics set for result 3, agent 7. 38/100\nMetrics set for result 3, agent 8. 39/100\nMetrics set for result 3, agent 9. 40/100\nMetrics set for result 4, agent 0. 41/100\nMetrics set for result 4, agent 1. 42/100\nMetrics set for result 4, agent 2. 43/100\nMetrics set for result 4, agent 3. 44/100\nMetrics set for result 4, agent 4. 45/100\nMetrics set for result 4, agent 5. 46/100\nMetrics set for result 4, agent 6. 47/100\nMetrics set for result 4, agent 7. 48/100\nMetrics set for result 4, agent 8. 49/100\nMetrics set for result 4, agent 9. 50/100\nMetrics set for result 5, agent 0. 51/100\nMetrics set for result 5, agent 1. 52/100\nMetrics set for result 5, agent 2. 53/100\nMetrics set for result 5, agent 3. 54/100\nMetrics set for result 5, agent 4. 55/100\nMetrics set for result 5, agent 5. 56/100\nMetrics set for result 5, agent 6. 57/100\nMetrics set for result 5, agent 7. 58/100\nMetrics set for result 5, agent 8. 59/100\nMetrics set for result 5, agent 9. 60/100\nMetrics set for result 6, agent 0. 61/100\nMetrics set for result 6, agent 1. 62/100\nMetrics set for result 6, agent 2. 63/100\nMetrics set for result 6, agent 3. 64/100\nMetrics set for result 6, agent 4. 65/100\nMetrics set for result 6, agent 5. 66/100\nMetrics set for result 6, agent 6. 67/100\nMetrics set for result 6, agent 7. 68/100\nMetrics set for result 6, agent 8. 69/100\nMetrics set for result 6, agent 9. 70/100\nMetrics set for result 7, agent 0. 71/100\nMetrics set for result 7, agent 1. 72/100\nMetrics set for result 7, agent 2. 73/100\nMetrics set for result 7, agent 3. 74/100\nMetrics set for result 7, agent 4. 75/100\nMetrics set for result 7, agent 5. 76/100\nMetrics set for result 7, agent 6. 77/100\nMetrics set for result 7, agent 7. 78/100\nMetrics set for result 7, agent 8. 79/100\nMetrics set for result 7, agent 9. 80/100\nMetrics set for result 8, agent 0. 81/100\nMetrics set for result 8, agent 1. 82/100\nMetrics set for result 8, agent 2. 83/100\nMetrics set for result 8, agent 3. 84/100\nMetrics set for result 8, agent 4. 85/100\nMetrics set for result 8, agent 5. 86/100\nMetrics set for result 8, agent 6. 87/100\nMetrics set for result 8, agent 7. 88/100\nMetrics set for result 8, agent 8. 89/100\nMetrics set for result 8, agent 9. 90/100\nMetrics set for result 9, agent 0. 91/100\nMetrics set for result 9, agent 1. 92/100\nMetrics set for result 9, agent 2. 93/100\nMetrics set for result 9, agent 3. 94/100\nMetrics set for result 9, agent 4. 95/100\nMetrics set for result 9, agent 5. 96/100\nMetrics set for result 9, agent 6. 97/100\nMetrics set for result 9, agent 7. 98/100\nMetrics set for result 9, agent 8. 99/100\nMetrics set for result 9, agent 9. 100/100\n"
    }
   ],
   "source": [
    "visualizer.set_train_metrics()\n",
    "visualizer.set_play_metrics()"
   ]
  },
  {
   "cell_type": "code",
   "execution_count": 6,
   "metadata": {},
   "outputs": [],
   "source": [
    "train_metrics: typing.List[AgentMetrics] = visualizer.agent_metrics\n",
    "play_metrics: typing.List[AgentMetrics] = visualizer.agent_play_metrics"
   ]
  },
  {
   "cell_type": "code",
   "execution_count": 7,
   "metadata": {},
   "outputs": [],
   "source": [
    "def get_all_metrics(metrics: typing.List[AgentMetrics], metric_name: str) -> Metrics:\n",
    "    all_metrics: Metrics = Metrics()\n",
    "    for i in range(len(metrics)):\n",
    "        all_metrics.extend(getattr(metrics[i], metric_name))\n",
    "    return all_metrics"
   ]
  },
  {
   "cell_type": "code",
   "execution_count": 8,
   "metadata": {},
   "outputs": [],
   "source": [
    "all_train_scores = get_all_metrics(train_metrics, 'scores')"
   ]
  },
  {
   "cell_type": "code",
   "execution_count": 10,
   "metadata": {},
   "outputs": [
    {
     "name": "stdout",
     "output_type": "stream",
     "text": "Mean at 1 iteration: 21.52\nMean at 500 iteration: 193.51\nMean at 1000 iteration: 346.45\nMean at 1500 iteration: 401.69\nMean at 2000 iteration: 415.19\nMean at 2500 iteration: 433.87\nMean at 3000 iteration: 423.2\nMean at 3500 iteration: 459.56\nMean at 4000 iteration: 468.72\nMean at 4500 iteration: 426.8\nMean at 5000 iteration: 450.81\n"
    }
   ],
   "source": [
    "scores = [metric.value for metric in all_train_scores.metrics if metric.iteration == 1]\n",
    "print(f\"Mean at {1} iteration: {np.array(scores).mean()}\")\n",
    "for i in range(500, 5500, 500):\n",
    "    scores = [metric.value for metric in all_train_scores.metrics if metric.iteration == i]\n",
    "    print(f\"Mean at {i} iteration: {np.array(scores).mean()}\")"
   ]
  },
  {
   "cell_type": "code",
   "execution_count": null,
   "metadata": {},
   "outputs": [],
   "source": []
  }
 ]
}