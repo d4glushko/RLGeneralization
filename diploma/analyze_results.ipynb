{
 "nbformat": 4,
 "nbformat_minor": 2,
 "metadata": {
  "language_info": {
   "name": "python",
   "codemirror_mode": {
    "name": "ipython",
    "version": 3
   },
   "version": "3.6.8"
  },
  "orig_nbformat": 2,
  "file_extension": ".py",
  "mimetype": "text/x-python",
  "name": "python",
  "npconvert_exporter": "python",
  "pygments_lexer": "ipython3",
  "version": 3
 },
 "cells": [
  {
   "cell_type": "code",
   "execution_count": 40,
   "metadata": {},
   "outputs": [],
   "source": [
    "import os\n",
    "import typing\n",
    "import numpy as np"
   ]
  },
  {
   "cell_type": "code",
   "execution_count": 41,
   "metadata": {},
   "outputs": [],
   "source": [
    "from diploma.noise_learning.utils import NoiseLearningAgents, ExchangeTypes\n",
    "from diploma.noise_learning.visualizer import Visualizer\n",
    "from diploma.noise_learning.metrics_manager import AgentMetrics, Metrics"
   ]
  },
  {
   "cell_type": "code",
   "execution_count": 42,
   "metadata": {},
   "outputs": [],
   "source": [
    "agents_number = 10\n",
    "env_name = 'CartPole-v1'\n",
    "agent = NoiseLearningAgents['DQN']\n",
    "noise_env_step = 0.1\n",
    "\n",
    "exchange_type = ExchangeTypes['SMART']\n",
    "exchange_delta = 0.1\n",
    "exchange_items_reward_count = 30\n",
    "\n",
    "detailed_agents_plots = False\n",
    "metrics_number_of_elements = 100\n",
    "metrics_number_of_iterations = 50\n",
    "\n",
    "executions_count = None\n",
    "executions_from = None\n",
    "execution_date = None"
   ]
  },
  {
   "cell_type": "code",
   "execution_count": 43,
   "metadata": {},
   "outputs": [],
   "source": [
    "visualizer = Visualizer(\n",
    "    exchange_type=exchange_type, exchange_delta=exchange_delta, exchange_items_reward_count=exchange_items_reward_count, \n",
    "    agents_number=agents_number, env_name=env_name, noise_learning_agent=agent, metrics_number_of_elements=metrics_number_of_elements, \n",
    "    metrics_number_of_iterations=metrics_number_of_iterations, detailed_agents_plots=detailed_agents_plots, \n",
    "    noise_env_step=noise_env_step, executions_count=executions_count, executions_from=executions_from, execution_date=execution_date\n",
    ")"
   ]
  },
  {
   "cell_type": "code",
   "execution_count": 44,
   "metadata": {},
   "outputs": [
    {
     "name": "stdout",
     "output_type": "stream",
     "text": "Loaded diploma/temp_results/2020-01-08_00-07-14_DQN_SMART_1/agent0.txt results\nLoaded diploma/temp_results/2020-01-08_00-07-14_DQN_SMART_1/agent1.txt results\nLoaded diploma/temp_results/2020-01-08_00-07-14_DQN_SMART_1/agent2.txt results\nLoaded diploma/temp_results/2020-01-08_00-07-14_DQN_SMART_1/agent3.txt results\nLoaded diploma/temp_results/2020-01-08_00-07-14_DQN_SMART_1/agent4.txt results\nLoaded diploma/temp_results/2020-01-08_00-07-14_DQN_SMART_1/agent5.txt results\nLoaded diploma/temp_results/2020-01-08_00-07-14_DQN_SMART_1/agent6.txt results\nLoaded diploma/temp_results/2020-01-08_00-07-14_DQN_SMART_1/agent7.txt results\nLoaded diploma/temp_results/2020-01-08_00-07-14_DQN_SMART_1/agent8.txt results\nLoaded diploma/temp_results/2020-01-08_00-07-14_DQN_SMART_1/agent9.txt results\nLoaded diploma/temp_results/2020-01-08_00-07-14_DQN_SMART_2/agent0.txt results\nLoaded diploma/temp_results/2020-01-08_00-07-14_DQN_SMART_2/agent1.txt results\nLoaded diploma/temp_results/2020-01-08_00-07-14_DQN_SMART_2/agent2.txt results\nLoaded diploma/temp_results/2020-01-08_00-07-14_DQN_SMART_2/agent3.txt results\nLoaded diploma/temp_results/2020-01-08_00-07-14_DQN_SMART_2/agent4.txt results\nLoaded diploma/temp_results/2020-01-08_00-07-14_DQN_SMART_2/agent5.txt results\nLoaded diploma/temp_results/2020-01-08_00-07-14_DQN_SMART_2/agent6.txt results\nLoaded diploma/temp_results/2020-01-08_00-07-14_DQN_SMART_2/agent7.txt results\nLoaded diploma/temp_results/2020-01-08_00-07-14_DQN_SMART_2/agent8.txt results\nLoaded diploma/temp_results/2020-01-08_00-07-14_DQN_SMART_2/agent9.txt results\nMetrics set for result 0, agent 0. 1/20\nMetrics set for result 0, agent 1. 2/20\nMetrics set for result 0, agent 2. 3/20\nMetrics set for result 0, agent 3. 4/20\nMetrics set for result 0, agent 4. 5/20\nMetrics set for result 0, agent 5. 6/20\nMetrics set for result 0, agent 6. 7/20\nMetrics set for result 0, agent 7. 8/20\nMetrics set for result 0, agent 8. 9/20\nMetrics set for result 0, agent 9. 10/20\nMetrics set for result 1, agent 0. 11/20\nMetrics set for result 1, agent 1. 12/20\nMetrics set for result 1, agent 2. 13/20\nMetrics set for result 1, agent 3. 14/20\nMetrics set for result 1, agent 4. 15/20\nMetrics set for result 1, agent 5. 16/20\nMetrics set for result 1, agent 6. 17/20\nMetrics set for result 1, agent 7. 18/20\nMetrics set for result 1, agent 8. 19/20\nMetrics set for result 1, agent 9. 20/20\nLoaded diploma/temp_results/2020-01-08_00-07-14_DQN_SMART_1/play_agent0.txt results\nLoaded diploma/temp_results/2020-01-08_00-07-14_DQN_SMART_1/play_agent1.txt results\nLoaded diploma/temp_results/2020-01-08_00-07-14_DQN_SMART_1/play_agent2.txt results\nLoaded diploma/temp_results/2020-01-08_00-07-14_DQN_SMART_1/play_agent3.txt results\nLoaded diploma/temp_results/2020-01-08_00-07-14_DQN_SMART_1/play_agent4.txt results\nLoaded diploma/temp_results/2020-01-08_00-07-14_DQN_SMART_1/play_agent5.txt results\nLoaded diploma/temp_results/2020-01-08_00-07-14_DQN_SMART_1/play_agent6.txt results\nLoaded diploma/temp_results/2020-01-08_00-07-14_DQN_SMART_1/play_agent7.txt results\nLoaded diploma/temp_results/2020-01-08_00-07-14_DQN_SMART_1/play_agent8.txt results\nLoaded diploma/temp_results/2020-01-08_00-07-14_DQN_SMART_1/play_agent9.txt results\nLoaded diploma/temp_results/2020-01-08_00-07-14_DQN_SMART_2/play_agent0.txt results\nLoaded diploma/temp_results/2020-01-08_00-07-14_DQN_SMART_2/play_agent1.txt results\nLoaded diploma/temp_results/2020-01-08_00-07-14_DQN_SMART_2/play_agent2.txt results\nLoaded diploma/temp_results/2020-01-08_00-07-14_DQN_SMART_2/play_agent3.txt results\nLoaded diploma/temp_results/2020-01-08_00-07-14_DQN_SMART_2/play_agent4.txt results\nLoaded diploma/temp_results/2020-01-08_00-07-14_DQN_SMART_2/play_agent5.txt results\nLoaded diploma/temp_results/2020-01-08_00-07-14_DQN_SMART_2/play_agent6.txt results\nLoaded diploma/temp_results/2020-01-08_00-07-14_DQN_SMART_2/play_agent7.txt results\nLoaded diploma/temp_results/2020-01-08_00-07-14_DQN_SMART_2/play_agent8.txt results\nLoaded diploma/temp_results/2020-01-08_00-07-14_DQN_SMART_2/play_agent9.txt results\nMetrics set for result 0, agent 0. 1/20\nMetrics set for result 0, agent 1. 2/20\nMetrics set for result 0, agent 2. 3/20\nMetrics set for result 0, agent 3. 4/20\nMetrics set for result 0, agent 4. 5/20\nMetrics set for result 0, agent 5. 6/20\nMetrics set for result 0, agent 6. 7/20\nMetrics set for result 0, agent 7. 8/20\nMetrics set for result 0, agent 8. 9/20\nMetrics set for result 0, agent 9. 10/20\nMetrics set for result 1, agent 0. 11/20\nMetrics set for result 1, agent 1. 12/20\nMetrics set for result 1, agent 2. 13/20\nMetrics set for result 1, agent 3. 14/20\nMetrics set for result 1, agent 4. 15/20\nMetrics set for result 1, agent 5. 16/20\nMetrics set for result 1, agent 6. 17/20\nMetrics set for result 1, agent 7. 18/20\nMetrics set for result 1, agent 8. 19/20\nMetrics set for result 1, agent 9. 20/20\n"
    }
   ],
   "source": [
    "visualizer.set_train_metrics()\n",
    "visualizer.set_play_metrics()"
   ]
  },
  {
   "cell_type": "code",
   "execution_count": 45,
   "metadata": {},
   "outputs": [],
   "source": [
    "train_metrics: typing.List[AgentMetrics] = visualizer.agent_metrics\n",
    "play_metrics: typing.List[AgentMetrics] = visualizer.agent_play_metrics"
   ]
  },
  {
   "cell_type": "code",
   "execution_count": 46,
   "metadata": {},
   "outputs": [],
   "source": [
    "def get_all_metrics(metrics: typing.List[AgentMetrics], metric_name: str) -> Metrics:\n",
    "    all_metrics: Metrics = Metrics()\n",
    "    for i in range(len(metrics)):\n",
    "        all_metrics.extend(getattr(metrics[i], metric_name))\n",
    "    return all_metrics"
   ]
  },
  {
   "cell_type": "code",
   "execution_count": 47,
   "metadata": {},
   "outputs": [],
   "source": [
    "all_train_scores = get_all_metrics(train_metrics, 'scores')\n",
    "all_play_scores = get_all_metrics(play_metrics, 'scores')"
   ]
  },
  {
   "cell_type": "code",
   "execution_count": 48,
   "metadata": {},
   "outputs": [],
   "source": [
    "def print_iteration_mean(all_scores: Metrics, start: int, end: int, step: int):\n",
    "    scores = [metric.value for metric in all_scores.metrics if metric.iteration == start]\n",
    "    print(f\"Mean at {start} iteration: {np.array(scores).mean()}\")\n",
    "    for i in range(step, end, step):\n",
    "        scores = [metric.value for metric in all_scores.metrics if metric.iteration == i]\n",
    "        print(f\"Mean at {i} iteration: {np.array(scores).mean()}\")"
   ]
  },
  {
   "cell_type": "code",
   "execution_count": 49,
   "metadata": {},
   "outputs": [
    {
     "name": "stdout",
     "output_type": "stream",
     "text": "Train scores:\nMean at 1 iteration: 11.2\nMean at 500 iteration: 119.8\nMean at 1000 iteration: 195.4\nMean at 1500 iteration: 187.65\nMean at 2000 iteration: 172.7\nMean at 2500 iteration: 168.35\nMean at 3000 iteration: 157.15\nMean at 3500 iteration: 199.35\nMean at 4000 iteration: 254.8\nMean at 4500 iteration: 216.7\nMean at 5000 iteration: 113.75\n"
    }
   ],
   "source": [
    "print(\"Train scores:\")\n",
    "print_iteration_mean(all_train_scores, 1, 5500, 500)"
   ]
  },
  {
   "cell_type": "code",
   "execution_count": 50,
   "metadata": {},
   "outputs": [
    {
     "name": "stdout",
     "output_type": "stream",
     "text": "Play scores:\nMean at 1 iteration: 158.2\nMean at 100 iteration: 143.9\nMean at 200 iteration: 155.35\nMean at 300 iteration: 161.25\nMean at 400 iteration: 185.4\nMean at 500 iteration: 166.65\n"
    }
   ],
   "source": [
    "print(\"Play scores:\")\n",
    "print_iteration_mean(all_play_scores, 1, 600, 100)"
   ]
  },
  {
   "cell_type": "code",
   "execution_count": 51,
   "metadata": {},
   "outputs": [
    {
     "name": "stdout",
     "output_type": "stream",
     "text": "Train average:\n"
    },
    {
     "data": {
      "text/plain": "167.79787"
     },
     "execution_count": 51,
     "metadata": {},
     "output_type": "execute_result"
    }
   ],
   "source": [
    "print(\"Train average:\")\n",
    "np.array([metric.value for metric in all_train_scores.metrics]).mean()"
   ]
  },
  {
   "cell_type": "code",
   "execution_count": 52,
   "metadata": {},
   "outputs": [
    {
     "name": "stdout",
     "output_type": "stream",
     "text": "Play average:\n"
    },
    {
     "data": {
      "text/plain": "160.8771"
     },
     "execution_count": 52,
     "metadata": {},
     "output_type": "execute_result"
    }
   ],
   "source": [
    "print(\"Play average:\")\n",
    "np.array([metric.value for metric in all_play_scores.metrics]).mean()"
   ]
  }
 ]
}