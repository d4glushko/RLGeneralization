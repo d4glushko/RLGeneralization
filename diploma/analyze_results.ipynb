{
 "nbformat": 4,
 "nbformat_minor": 2,
 "metadata": {
  "language_info": {
   "name": "python",
   "codemirror_mode": {
    "name": "ipython",
    "version": 3
   },
   "version": "3.6.8"
  },
  "orig_nbformat": 2,
  "file_extension": ".py",
  "mimetype": "text/x-python",
  "name": "python",
  "npconvert_exporter": "python",
  "pygments_lexer": "ipython3",
  "version": 3
 },
 "cells": [
  {
   "cell_type": "code",
   "execution_count": 1,
   "metadata": {},
   "outputs": [],
   "source": [
    "import os\n",
    "import typing\n",
    "import numpy as np"
   ]
  },
  {
   "cell_type": "code",
   "execution_count": 2,
   "metadata": {},
   "outputs": [],
   "source": [
    "from diploma.noise_learning.utils import NoiseLearningAgents, ExchangeTypes\n",
    "from diploma.noise_learning.visualizer import Visualizer\n",
    "from diploma.noise_learning.metrics_manager import AgentMetrics, Metrics"
   ]
  },
  {
   "cell_type": "code",
   "execution_count": 3,
   "metadata": {},
   "outputs": [],
   "source": [
    "agents_number = 10\n",
    "env_name = 'CartPole-v1'\n",
    "agent = NoiseLearningAgents['A2C']\n",
    "noise_env_step = 0.1\n",
    "\n",
    "exchange_type = ExchangeTypes['RANDOM']\n",
    "exchange_delta = 0.1\n",
    "exchange_items_reward_count = 30\n",
    "\n",
    "detailed_agents_plots = False\n",
    "metrics_number_of_elements = 100\n",
    "metrics_number_of_iterations = 50\n",
    "\n",
    "executions_count = None\n",
    "executions_from = None\n",
    "execution_date = None"
   ]
  },
  {
   "cell_type": "code",
   "execution_count": 4,
   "metadata": {},
   "outputs": [],
   "source": [
    "visualizer = Visualizer(\n",
    "    exchange_type=exchange_type, exchange_delta=exchange_delta, exchange_items_reward_count=exchange_items_reward_count, \n",
    "    agents_number=agents_number, env_name=env_name, noise_learning_agent=agent, metrics_number_of_elements=metrics_number_of_elements, \n",
    "    metrics_number_of_iterations=metrics_number_of_iterations, detailed_agents_plots=detailed_agents_plots, \n",
    "    noise_env_step=noise_env_step, executions_count=executions_count, executions_from=executions_from, execution_date=execution_date\n",
    ")"
   ]
  },
  {
   "cell_type": "code",
   "execution_count": 5,
   "metadata": {},
   "outputs": [
    {
     "name": "stdout",
     "output_type": "stream",
     "text": "Loaded diploma/temp_results/2020-01-07_23-49-04_A2C_RANDOM_1/agent0.txt results\nLoaded diploma/temp_results/2020-01-07_23-49-04_A2C_RANDOM_1/agent1.txt results\nLoaded diploma/temp_results/2020-01-07_23-49-04_A2C_RANDOM_1/agent2.txt results\nLoaded diploma/temp_results/2020-01-07_23-49-04_A2C_RANDOM_1/agent3.txt results\nLoaded diploma/temp_results/2020-01-07_23-49-04_A2C_RANDOM_1/agent4.txt results\nLoaded diploma/temp_results/2020-01-07_23-49-04_A2C_RANDOM_1/agent5.txt results\nLoaded diploma/temp_results/2020-01-07_23-49-04_A2C_RANDOM_1/agent6.txt results\nLoaded diploma/temp_results/2020-01-07_23-49-04_A2C_RANDOM_1/agent7.txt results\nLoaded diploma/temp_results/2020-01-07_23-49-04_A2C_RANDOM_1/agent8.txt results\nLoaded diploma/temp_results/2020-01-07_23-49-04_A2C_RANDOM_1/agent9.txt results\nLoaded diploma/temp_results/2020-01-07_23-49-04_A2C_RANDOM_2/agent0.txt results\nLoaded diploma/temp_results/2020-01-07_23-49-04_A2C_RANDOM_2/agent1.txt results\nLoaded diploma/temp_results/2020-01-07_23-49-04_A2C_RANDOM_2/agent2.txt results\nLoaded diploma/temp_results/2020-01-07_23-49-04_A2C_RANDOM_2/agent3.txt results\nLoaded diploma/temp_results/2020-01-07_23-49-04_A2C_RANDOM_2/agent4.txt results\nLoaded diploma/temp_results/2020-01-07_23-49-04_A2C_RANDOM_2/agent5.txt results\nLoaded diploma/temp_results/2020-01-07_23-49-04_A2C_RANDOM_2/agent6.txt results\nLoaded diploma/temp_results/2020-01-07_23-49-04_A2C_RANDOM_2/agent7.txt results\nLoaded diploma/temp_results/2020-01-07_23-49-04_A2C_RANDOM_2/agent8.txt results\nLoaded diploma/temp_results/2020-01-07_23-49-04_A2C_RANDOM_2/agent9.txt results\nLoaded diploma/temp_results/2020-01-07_23-49-04_A2C_RANDOM_3/agent0.txt results\nLoaded diploma/temp_results/2020-01-07_23-49-04_A2C_RANDOM_3/agent1.txt results\nLoaded diploma/temp_results/2020-01-07_23-49-04_A2C_RANDOM_3/agent2.txt results\nLoaded diploma/temp_results/2020-01-07_23-49-04_A2C_RANDOM_3/agent3.txt results\nLoaded diploma/temp_results/2020-01-07_23-49-04_A2C_RANDOM_3/agent4.txt results\nLoaded diploma/temp_results/2020-01-07_23-49-04_A2C_RANDOM_3/agent5.txt results\nLoaded diploma/temp_results/2020-01-07_23-49-04_A2C_RANDOM_3/agent6.txt results\nLoaded diploma/temp_results/2020-01-07_23-49-04_A2C_RANDOM_3/agent7.txt results\nLoaded diploma/temp_results/2020-01-07_23-49-04_A2C_RANDOM_3/agent8.txt results\nLoaded diploma/temp_results/2020-01-07_23-49-04_A2C_RANDOM_3/agent9.txt results\nLoaded diploma/temp_results/2020-01-07_23-49-04_A2C_RANDOM_4/agent0.txt results\nLoaded diploma/temp_results/2020-01-07_23-49-04_A2C_RANDOM_4/agent1.txt results\nLoaded diploma/temp_results/2020-01-07_23-49-04_A2C_RANDOM_4/agent2.txt results\nLoaded diploma/temp_results/2020-01-07_23-49-04_A2C_RANDOM_4/agent3.txt results\nLoaded diploma/temp_results/2020-01-07_23-49-04_A2C_RANDOM_4/agent4.txt results\nLoaded diploma/temp_results/2020-01-07_23-49-04_A2C_RANDOM_4/agent5.txt results\nLoaded diploma/temp_results/2020-01-07_23-49-04_A2C_RANDOM_4/agent6.txt results\nLoaded diploma/temp_results/2020-01-07_23-49-04_A2C_RANDOM_4/agent7.txt results\nLoaded diploma/temp_results/2020-01-07_23-49-04_A2C_RANDOM_4/agent8.txt results\nLoaded diploma/temp_results/2020-01-07_23-49-04_A2C_RANDOM_4/agent9.txt results\nLoaded diploma/temp_results/2020-01-07_23-49-04_A2C_RANDOM_5/agent0.txt results\nLoaded diploma/temp_results/2020-01-07_23-49-04_A2C_RANDOM_5/agent1.txt results\nLoaded diploma/temp_results/2020-01-07_23-49-04_A2C_RANDOM_5/agent2.txt results\nLoaded diploma/temp_results/2020-01-07_23-49-04_A2C_RANDOM_5/agent3.txt results\nLoaded diploma/temp_results/2020-01-07_23-49-04_A2C_RANDOM_5/agent4.txt results\nLoaded diploma/temp_results/2020-01-07_23-49-04_A2C_RANDOM_5/agent5.txt results\nLoaded diploma/temp_results/2020-01-07_23-49-04_A2C_RANDOM_5/agent6.txt results\nLoaded diploma/temp_results/2020-01-07_23-49-04_A2C_RANDOM_5/agent7.txt results\nLoaded diploma/temp_results/2020-01-07_23-49-04_A2C_RANDOM_5/agent8.txt results\nLoaded diploma/temp_results/2020-01-07_23-49-04_A2C_RANDOM_5/agent9.txt results\nLoaded diploma/temp_results/2020-01-07_23-49-04_A2C_RANDOM_6/agent0.txt results\nLoaded diploma/temp_results/2020-01-07_23-49-04_A2C_RANDOM_6/agent1.txt results\nLoaded diploma/temp_results/2020-01-07_23-49-04_A2C_RANDOM_6/agent2.txt results\nLoaded diploma/temp_results/2020-01-07_23-49-04_A2C_RANDOM_6/agent3.txt results\nLoaded diploma/temp_results/2020-01-07_23-49-04_A2C_RANDOM_6/agent4.txt results\nLoaded diploma/temp_results/2020-01-07_23-49-04_A2C_RANDOM_6/agent5.txt results\nLoaded diploma/temp_results/2020-01-07_23-49-04_A2C_RANDOM_6/agent6.txt results\nLoaded diploma/temp_results/2020-01-07_23-49-04_A2C_RANDOM_6/agent7.txt results\nLoaded diploma/temp_results/2020-01-07_23-49-04_A2C_RANDOM_6/agent8.txt results\nLoaded diploma/temp_results/2020-01-07_23-49-04_A2C_RANDOM_6/agent9.txt results\nMetrics set for result 0, agent 0. 1/60\nMetrics set for result 0, agent 1. 2/60\nMetrics set for result 0, agent 2. 3/60\nMetrics set for result 0, agent 3. 4/60\nMetrics set for result 0, agent 4. 5/60\nMetrics set for result 0, agent 5. 6/60\nMetrics set for result 0, agent 6. 7/60\nMetrics set for result 0, agent 7. 8/60\nMetrics set for result 0, agent 8. 9/60\nMetrics set for result 0, agent 9. 10/60\nMetrics set for result 1, agent 0. 11/60\nMetrics set for result 1, agent 1. 12/60\nMetrics set for result 1, agent 2. 13/60\nMetrics set for result 1, agent 3. 14/60\nMetrics set for result 1, agent 4. 15/60\nMetrics set for result 1, agent 5. 16/60\nMetrics set for result 1, agent 6. 17/60\nMetrics set for result 1, agent 7. 18/60\nMetrics set for result 1, agent 8. 19/60\nMetrics set for result 1, agent 9. 20/60\nMetrics set for result 2, agent 0. 21/60\nMetrics set for result 2, agent 1. 22/60\nMetrics set for result 2, agent 2. 23/60\nMetrics set for result 2, agent 3. 24/60\nMetrics set for result 2, agent 4. 25/60\nMetrics set for result 2, agent 5. 26/60\nMetrics set for result 2, agent 6. 27/60\nMetrics set for result 2, agent 7. 28/60\nMetrics set for result 2, agent 8. 29/60\nMetrics set for result 2, agent 9. 30/60\nMetrics set for result 3, agent 0. 31/60\nMetrics set for result 3, agent 1. 32/60\nMetrics set for result 3, agent 2. 33/60\nMetrics set for result 3, agent 3. 34/60\nMetrics set for result 3, agent 4. 35/60\nMetrics set for result 3, agent 5. 36/60\nMetrics set for result 3, agent 6. 37/60\nMetrics set for result 3, agent 7. 38/60\nMetrics set for result 3, agent 8. 39/60\nMetrics set for result 3, agent 9. 40/60\nMetrics set for result 4, agent 0. 41/60\nMetrics set for result 4, agent 1. 42/60\nMetrics set for result 4, agent 2. 43/60\nMetrics set for result 4, agent 3. 44/60\nMetrics set for result 4, agent 4. 45/60\nMetrics set for result 4, agent 5. 46/60\nMetrics set for result 4, agent 6. 47/60\nMetrics set for result 4, agent 7. 48/60\nMetrics set for result 4, agent 8. 49/60\nMetrics set for result 4, agent 9. 50/60\nMetrics set for result 5, agent 0. 51/60\nMetrics set for result 5, agent 1. 52/60\nMetrics set for result 5, agent 2. 53/60\nMetrics set for result 5, agent 3. 54/60\nMetrics set for result 5, agent 4. 55/60\nMetrics set for result 5, agent 5. 56/60\nMetrics set for result 5, agent 6. 57/60\nMetrics set for result 5, agent 7. 58/60\nMetrics set for result 5, agent 8. 59/60\nMetrics set for result 5, agent 9. 60/60\nLoaded diploma/temp_results/2020-01-07_23-49-04_A2C_RANDOM_1/play_agent0.txt results\nLoaded diploma/temp_results/2020-01-07_23-49-04_A2C_RANDOM_1/play_agent1.txt results\nLoaded diploma/temp_results/2020-01-07_23-49-04_A2C_RANDOM_1/play_agent2.txt results\nLoaded diploma/temp_results/2020-01-07_23-49-04_A2C_RANDOM_1/play_agent3.txt results\nLoaded diploma/temp_results/2020-01-07_23-49-04_A2C_RANDOM_1/play_agent4.txt results\nLoaded diploma/temp_results/2020-01-07_23-49-04_A2C_RANDOM_1/play_agent5.txt results\nLoaded diploma/temp_results/2020-01-07_23-49-04_A2C_RANDOM_1/play_agent6.txt results\nLoaded diploma/temp_results/2020-01-07_23-49-04_A2C_RANDOM_1/play_agent7.txt results\nLoaded diploma/temp_results/2020-01-07_23-49-04_A2C_RANDOM_1/play_agent8.txt results\nLoaded diploma/temp_results/2020-01-07_23-49-04_A2C_RANDOM_1/play_agent9.txt results\nLoaded diploma/temp_results/2020-01-07_23-49-04_A2C_RANDOM_2/play_agent0.txt results\nLoaded diploma/temp_results/2020-01-07_23-49-04_A2C_RANDOM_2/play_agent1.txt results\nLoaded diploma/temp_results/2020-01-07_23-49-04_A2C_RANDOM_2/play_agent2.txt results\nLoaded diploma/temp_results/2020-01-07_23-49-04_A2C_RANDOM_2/play_agent3.txt results\nLoaded diploma/temp_results/2020-01-07_23-49-04_A2C_RANDOM_2/play_agent4.txt results\nLoaded diploma/temp_results/2020-01-07_23-49-04_A2C_RANDOM_2/play_agent5.txt results\nLoaded diploma/temp_results/2020-01-07_23-49-04_A2C_RANDOM_2/play_agent6.txt results\nLoaded diploma/temp_results/2020-01-07_23-49-04_A2C_RANDOM_2/play_agent7.txt results\nLoaded diploma/temp_results/2020-01-07_23-49-04_A2C_RANDOM_2/play_agent8.txt results\nLoaded diploma/temp_results/2020-01-07_23-49-04_A2C_RANDOM_2/play_agent9.txt results\nLoaded diploma/temp_results/2020-01-07_23-49-04_A2C_RANDOM_3/play_agent0.txt results\nLoaded diploma/temp_results/2020-01-07_23-49-04_A2C_RANDOM_3/play_agent1.txt results\nLoaded diploma/temp_results/2020-01-07_23-49-04_A2C_RANDOM_3/play_agent2.txt results\nLoaded diploma/temp_results/2020-01-07_23-49-04_A2C_RANDOM_3/play_agent3.txt results\nLoaded diploma/temp_results/2020-01-07_23-49-04_A2C_RANDOM_3/play_agent4.txt results\nLoaded diploma/temp_results/2020-01-07_23-49-04_A2C_RANDOM_3/play_agent5.txt results\nLoaded diploma/temp_results/2020-01-07_23-49-04_A2C_RANDOM_3/play_agent6.txt results\nLoaded diploma/temp_results/2020-01-07_23-49-04_A2C_RANDOM_3/play_agent7.txt results\nLoaded diploma/temp_results/2020-01-07_23-49-04_A2C_RANDOM_3/play_agent8.txt results\nLoaded diploma/temp_results/2020-01-07_23-49-04_A2C_RANDOM_3/play_agent9.txt results\nLoaded diploma/temp_results/2020-01-07_23-49-04_A2C_RANDOM_4/play_agent0.txt results\nLoaded diploma/temp_results/2020-01-07_23-49-04_A2C_RANDOM_4/play_agent1.txt results\nLoaded diploma/temp_results/2020-01-07_23-49-04_A2C_RANDOM_4/play_agent2.txt results\nLoaded diploma/temp_results/2020-01-07_23-49-04_A2C_RANDOM_4/play_agent3.txt results\nLoaded diploma/temp_results/2020-01-07_23-49-04_A2C_RANDOM_4/play_agent4.txt results\nLoaded diploma/temp_results/2020-01-07_23-49-04_A2C_RANDOM_4/play_agent5.txt results\nLoaded diploma/temp_results/2020-01-07_23-49-04_A2C_RANDOM_4/play_agent6.txt results\nLoaded diploma/temp_results/2020-01-07_23-49-04_A2C_RANDOM_4/play_agent7.txt results\nLoaded diploma/temp_results/2020-01-07_23-49-04_A2C_RANDOM_4/play_agent8.txt results\nLoaded diploma/temp_results/2020-01-07_23-49-04_A2C_RANDOM_4/play_agent9.txt results\nLoaded diploma/temp_results/2020-01-07_23-49-04_A2C_RANDOM_5/play_agent0.txt results\nLoaded diploma/temp_results/2020-01-07_23-49-04_A2C_RANDOM_5/play_agent1.txt results\nLoaded diploma/temp_results/2020-01-07_23-49-04_A2C_RANDOM_5/play_agent2.txt results\nLoaded diploma/temp_results/2020-01-07_23-49-04_A2C_RANDOM_5/play_agent3.txt results\nLoaded diploma/temp_results/2020-01-07_23-49-04_A2C_RANDOM_5/play_agent4.txt results\nLoaded diploma/temp_results/2020-01-07_23-49-04_A2C_RANDOM_5/play_agent5.txt results\nLoaded diploma/temp_results/2020-01-07_23-49-04_A2C_RANDOM_5/play_agent6.txt results\nLoaded diploma/temp_results/2020-01-07_23-49-04_A2C_RANDOM_5/play_agent7.txt results\nLoaded diploma/temp_results/2020-01-07_23-49-04_A2C_RANDOM_5/play_agent8.txt results\nLoaded diploma/temp_results/2020-01-07_23-49-04_A2C_RANDOM_5/play_agent9.txt results\nLoaded diploma/temp_results/2020-01-07_23-49-04_A2C_RANDOM_6/play_agent0.txt results\nLoaded diploma/temp_results/2020-01-07_23-49-04_A2C_RANDOM_6/play_agent1.txt results\nLoaded diploma/temp_results/2020-01-07_23-49-04_A2C_RANDOM_6/play_agent2.txt results\nLoaded diploma/temp_results/2020-01-07_23-49-04_A2C_RANDOM_6/play_agent3.txt results\nLoaded diploma/temp_results/2020-01-07_23-49-04_A2C_RANDOM_6/play_agent4.txt results\nLoaded diploma/temp_results/2020-01-07_23-49-04_A2C_RANDOM_6/play_agent5.txt results\nLoaded diploma/temp_results/2020-01-07_23-49-04_A2C_RANDOM_6/play_agent6.txt results\nLoaded diploma/temp_results/2020-01-07_23-49-04_A2C_RANDOM_6/play_agent7.txt results\nLoaded diploma/temp_results/2020-01-07_23-49-04_A2C_RANDOM_6/play_agent8.txt results\nLoaded diploma/temp_results/2020-01-07_23-49-04_A2C_RANDOM_6/play_agent9.txt results\nMetrics set for result 0, agent 0. 1/60\nMetrics set for result 0, agent 1. 2/60\nMetrics set for result 0, agent 2. 3/60\nMetrics set for result 0, agent 3. 4/60\nMetrics set for result 0, agent 4. 5/60\nMetrics set for result 0, agent 5. 6/60\nMetrics set for result 0, agent 6. 7/60\nMetrics set for result 0, agent 7. 8/60\nMetrics set for result 0, agent 8. 9/60\nMetrics set for result 0, agent 9. 10/60\nMetrics set for result 1, agent 0. 11/60\nMetrics set for result 1, agent 1. 12/60\nMetrics set for result 1, agent 2. 13/60\nMetrics set for result 1, agent 3. 14/60\nMetrics set for result 1, agent 4. 15/60\nMetrics set for result 1, agent 5. 16/60\nMetrics set for result 1, agent 6. 17/60\nMetrics set for result 1, agent 7. 18/60\nMetrics set for result 1, agent 8. 19/60\nMetrics set for result 1, agent 9. 20/60\nMetrics set for result 2, agent 0. 21/60\nMetrics set for result 2, agent 1. 22/60\nMetrics set for result 2, agent 2. 23/60\nMetrics set for result 2, agent 3. 24/60\nMetrics set for result 2, agent 4. 25/60\nMetrics set for result 2, agent 5. 26/60\nMetrics set for result 2, agent 6. 27/60\nMetrics set for result 2, agent 7. 28/60\nMetrics set for result 2, agent 8. 29/60\nMetrics set for result 2, agent 9. 30/60\nMetrics set for result 3, agent 0. 31/60\nMetrics set for result 3, agent 1. 32/60\nMetrics set for result 3, agent 2. 33/60\nMetrics set for result 3, agent 3. 34/60\nMetrics set for result 3, agent 4. 35/60\nMetrics set for result 3, agent 5. 36/60\nMetrics set for result 3, agent 6. 37/60\nMetrics set for result 3, agent 7. 38/60\nMetrics set for result 3, agent 8. 39/60\nMetrics set for result 3, agent 9. 40/60\nMetrics set for result 4, agent 0. 41/60\nMetrics set for result 4, agent 1. 42/60\nMetrics set for result 4, agent 2. 43/60\nMetrics set for result 4, agent 3. 44/60\nMetrics set for result 4, agent 4. 45/60\nMetrics set for result 4, agent 5. 46/60\nMetrics set for result 4, agent 6. 47/60\nMetrics set for result 4, agent 7. 48/60\nMetrics set for result 4, agent 8. 49/60\nMetrics set for result 4, agent 9. 50/60\nMetrics set for result 5, agent 0. 51/60\nMetrics set for result 5, agent 1. 52/60\nMetrics set for result 5, agent 2. 53/60\nMetrics set for result 5, agent 3. 54/60\nMetrics set for result 5, agent 4. 55/60\nMetrics set for result 5, agent 5. 56/60\nMetrics set for result 5, agent 6. 57/60\nMetrics set for result 5, agent 7. 58/60\nMetrics set for result 5, agent 8. 59/60\nMetrics set for result 5, agent 9. 60/60\n"
    }
   ],
   "source": [
    "visualizer.set_train_metrics()\n",
    "visualizer.set_play_metrics()"
   ]
  },
  {
   "cell_type": "code",
   "execution_count": 6,
   "metadata": {},
   "outputs": [],
   "source": [
    "train_metrics: typing.List[AgentMetrics] = visualizer.agent_metrics\n",
    "play_metrics: typing.List[AgentMetrics] = visualizer.agent_play_metrics"
   ]
  },
  {
   "cell_type": "code",
   "execution_count": 7,
   "metadata": {},
   "outputs": [],
   "source": [
    "def get_all_metrics(metrics: typing.List[AgentMetrics], metric_name: str) -> Metrics:\n",
    "    all_metrics: Metrics = Metrics()\n",
    "    for i in range(len(metrics)):\n",
    "        all_metrics.extend(getattr(metrics[i], metric_name))\n",
    "    return all_metrics"
   ]
  },
  {
   "cell_type": "code",
   "execution_count": 8,
   "metadata": {},
   "outputs": [],
   "source": [
    "all_train_scores = get_all_metrics(train_metrics, 'scores')\n",
    "all_play_scores = get_all_metrics(play_metrics, 'scores')"
   ]
  },
  {
   "cell_type": "code",
   "execution_count": 9,
   "metadata": {},
   "outputs": [],
   "source": [
    "def print_iteration_mean(all_scores: Metrics, start: int, end: int, step: int):\n",
    "    scores = [metric.value for metric in all_scores.metrics if metric.iteration == start]\n",
    "    print(f\"Mean at {start} iteration: {np.array(scores).mean()}\")\n",
    "    for i in range(step, end, step):\n",
    "        scores = [metric.value for metric in all_scores.metrics if metric.iteration == i]\n",
    "        print(f\"Mean at {i} iteration: {np.array(scores).mean()}\")"
   ]
  },
  {
   "cell_type": "code",
   "execution_count": 10,
   "metadata": {},
   "outputs": [
    {
     "name": "stdout",
     "output_type": "stream",
     "text": "Train scores:\nMean at 1 iteration: 25.55\nMean at 500 iteration: 205.68333333333334\nMean at 1000 iteration: 340.05\nMean at 1500 iteration: 393.1\nMean at 2000 iteration: 415.5\nMean at 2500 iteration: 411.53333333333336\nMean at 3000 iteration: 376.01666666666665\nMean at 3500 iteration: 450.96666666666664\nMean at 4000 iteration: 411.81666666666666\nMean at 4500 iteration: 433.48333333333335\nMean at 5000 iteration: 432.7\n"
    }
   ],
   "source": [
    "print(\"Train scores:\")\n",
    "print_iteration_mean(all_train_scores, 1, 5500, 500)"
   ]
  },
  {
   "cell_type": "code",
   "execution_count": 11,
   "metadata": {},
   "outputs": [
    {
     "name": "stdout",
     "output_type": "stream",
     "text": "Play scores:\nMean at 1 iteration: 481.45\nMean at 100 iteration: 482.51666666666665\nMean at 200 iteration: 482.3833333333333\nMean at 300 iteration: 481.98333333333335\nMean at 400 iteration: 475.1333333333333\nMean at 500 iteration: 477.76666666666665\n"
    }
   ],
   "source": [
    "print(\"Play scores:\")\n",
    "print_iteration_mean(all_play_scores, 1, 600, 100)"
   ]
  },
  {
   "cell_type": "code",
   "execution_count": 12,
   "metadata": {},
   "outputs": [
    {
     "name": "stdout",
     "output_type": "stream",
     "text": "Play average:\n"
    },
    {
     "data": {
      "text/plain": "480.33863333333335"
     },
     "execution_count": 12,
     "metadata": {},
     "output_type": "execute_result"
    }
   ],
   "source": [
    "print(\"Play average:\")\n",
    "np.array([metric.value for metric in all_play_scores.metrics]).mean()"
   ]
  }
 ]
}